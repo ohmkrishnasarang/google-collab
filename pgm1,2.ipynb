{
  "nbformat": 4,
  "nbformat_minor": 0,
  "metadata": {
    "colab": {
      "provenance": [],
      "authorship_tag": "ABX9TyOCI3OQmkjn2BjYe2SknPn9",
      "include_colab_link": true
    },
    "kernelspec": {
      "name": "python3",
      "display_name": "Python 3"
    },
    "language_info": {
      "name": "python"
    }
  },
  "cells": [
    {
      "cell_type": "markdown",
      "metadata": {
        "id": "view-in-github",
        "colab_type": "text"
      },
      "source": [
        "<a href=\"https://colab.research.google.com/github/ohmkrishnasarang/google-collab/blob/main/pgm1%2C2.ipynb\" target=\"_parent\"><img src=\"https://colab.research.google.com/assets/colab-badge.svg\" alt=\"Open In Colab\"/></a>"
      ]
    },
    {
      "cell_type": "code",
      "execution_count": null,
      "metadata": {
        "id": "Luv2Y4Cjfxau"
      },
      "outputs": [],
      "source": []
    },
    {
      "cell_type": "code",
      "source": [
        "#predit the class label of an unseen observation using navie-bayes\n",
        "weather=['Sunny','Sunny','Overcast','Rainy','Rainy','Rainy','Overcast','Sunny','Sunny',\n",
        "'Rainy','Sunny','Overcast','Overcast','Rainy']\n",
        "temp=['Hot','Hot','Hot','Mild','Cool','Cool','Cool','Mild','Cool','Mild','Mild','Mild','Hot','Mild']\n",
        "play=['No','No','Yes','Yes','Yes','No','Yes','No','Yes','Yes','Yes','Yes','Yes','No']\n",
        "from sklearn import preprocessing\n",
        "#creating labelEncoder\n",
        "le =preprocessing.LabelEncoder()\n",
        "# Converting string labels into numbers.\n",
        "weather_encoded=le.fit_transform(weather)\n",
        "print(weather_encoded)\n",
        "temp_encoded=le.fit_transform(temp)\n",
        "label=le.fit_transform(play)\n",
        "print(\"Temp:\",temp_encoded)\n",
        "print(\"Play:\",label)\n",
        "features=zip(weather_encoded,temp_encoded)\n",
        "features=list(features)\n",
        "features\n",
        "from sklearn.naive_bayes import GaussianNB\n",
        "#Create a Gaussian Classifier\n",
        "model = GaussianNB()\n",
        "#Train the model using the training sets\n",
        "model.fit(features, label)\n",
        "#Predict Output\n",
        "predicted= model.predict([[0,2]]) #0:Overcast, 2:Mild\n",
        "print(\"Predicted Value:\", predicted)"
      ],
      "metadata": {
        "colab": {
          "base_uri": "https://localhost:8080/"
        },
        "id": "3jyiK-7ml_r4",
        "outputId": "3f2ecf2d-ec18-41eb-8312-853523f10584"
      },
      "execution_count": 8,
      "outputs": [
        {
          "output_type": "stream",
          "name": "stdout",
          "text": [
            "[2 2 0 1 1 1 0 2 2 1 2 0 0 1]\n",
            "Temp: [1 1 1 2 0 0 0 2 0 2 2 2 1 2]\n",
            "Play: [0 0 1 1 1 0 1 0 1 1 1 1 1 0]\n",
            "Predicted Value: [1]\n"
          ]
        }
      ]
    },
    {
      "cell_type": "code",
      "source": [
        "#Predict class label of a given data point using KNN.\n",
        "from sklearn.neighbors import KNeighborsClassifier\n",
        "x1=[7,7,3,1]\n",
        "x2=[7,4,4,4]\n",
        "target=['bad', 'bad', 'Good','Good']\n",
        "from sklearn import preprocessing\n",
        "le=preprocessing.LabelEncoder()\n",
        "target_encoded=le.fit_transform(target)\n",
        "print(target_encoded)\n",
        "features=zip(x1,x2)\n",
        "features =list(features)\n",
        "features\n",
        "knn = KNeighborsClassifier(n_neighbors=3)\n",
        "knn.fit(features,target)\n",
        "print(knn.predict([[3,71]]))"
      ],
      "metadata": {
        "colab": {
          "base_uri": "https://localhost:8080/"
        },
        "id": "rKe_xExnf4i1",
        "outputId": "dd0b3db3-812c-4392-ab21-bcc08fee97be"
      },
      "execution_count": 1,
      "outputs": [
        {
          "output_type": "stream",
          "name": "stdout",
          "text": [
            "[1 1 0 0]\n",
            "['Good']\n"
          ]
        }
      ]
    }
  ]
}