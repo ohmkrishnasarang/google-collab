{
  "nbformat": 4,
  "nbformat_minor": 0,
  "metadata": {
    "colab": {
      "provenance": [],
      "authorship_tag": "ABX9TyMFiDc+jk9RxO/9TZI8gWSI",
      "include_colab_link": true
    },
    "kernelspec": {
      "name": "python3",
      "display_name": "Python 3"
    },
    "language_info": {
      "name": "python"
    }
  },
  "cells": [
    {
      "cell_type": "markdown",
      "metadata": {
        "id": "view-in-github",
        "colab_type": "text"
      },
      "source": [
        "<a href=\"https://colab.research.google.com/github/ohmkrishnasarang/google-collab/blob/main/predit_accuracy.ipynb\" target=\"_parent\"><img src=\"https://colab.research.google.com/assets/colab-badge.svg\" alt=\"Open In Colab\"/></a>"
      ]
    },
    {
      "cell_type": "code",
      "execution_count": null,
      "metadata": {
        "id": "q7gmZPEul_G8"
      },
      "outputs": [],
      "source": [
        "from sklearn.model_selection import train_test_split\n",
        "from sklearn.datasets import load_iris\n",
        "irisData=load_iris()\n",
        "print(\"Features: \", irisData. feature_names)\n",
        "print(\"Labels: \", irisData. target_names)\n",
        "X= irisData.data\n",
        "y=irisData. target\n",
        "X_train, X_test, y_train, y_test= train_test_split(X, y, test_size = 0.2, random_state=42)\n",
        "from sklearn.naive_bayes import GaussianNB\n",
        "gnb=GaussianNB()\n",
        "gnb.fit(X_train, y_train)\n",
        "print(gnb.predict([[ 7.7,2.6,6.9,2.3]]))\n",
        "y_predl= gnb.predict(X_test)\n",
        "print(y_predl)\n",
        "from sklearn.metrics import accuracy_score\n",
        "acl= accuracy_score(y_test,y_predl)\n",
        "print(acl)"
      ]
    }
  ]
}