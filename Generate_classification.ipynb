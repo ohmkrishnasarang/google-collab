{
  "nbformat": 4,
  "nbformat_minor": 0,
  "metadata": {
    "colab": {
      "provenance": [],
      "authorship_tag": "ABX9TyPF8xU47OQmzlSQ8SOwl1xN",
      "include_colab_link": true
    },
    "kernelspec": {
      "name": "python3",
      "display_name": "Python 3"
    },
    "language_info": {
      "name": "python"
    }
  },
  "cells": [
    {
      "cell_type": "markdown",
      "metadata": {
        "id": "view-in-github",
        "colab_type": "text"
      },
      "source": [
        "<a href=\"https://colab.research.google.com/github/ohmkrishnasarang/google-collab/blob/main/Generate_classification.ipynb\" target=\"_parent\"><img src=\"https://colab.research.google.com/assets/colab-badge.svg\" alt=\"Open In Colab\"/></a>"
      ]
    },
    {
      "cell_type": "code",
      "execution_count": null,
      "metadata": {
        "id": "s_0w4l1gnZvW"
      },
      "outputs": [],
      "source": [
        "from sklearn.model_selection import train_test_split\n",
        "from sklearn.naive_bayes import GaussianNB\n",
        "import pandas as pd\n",
        "df=pd.read_csv(\"./diabetes.csv\")\n",
        "df.head()\n",
        "X=df.drop(\"Outcome\",axis=1)\n",
        "y=df[\"Outcome\"]\n",
        "X_train, X_test, y_train, y_test= train_test_split(X, y, test_size = 0.2, random_state=42)\n",
        "gnb=GaussianNB()\n",
        "gnb.fit(X_train, y_train)\n",
        "y_predl=gnb.predict(X_test)\n",
        "print(y_predl)\n",
        "from sklearn.metrics import accuracy_score\n",
        "acl=accuracy_score(y_test,y_predl)\n",
        "print(acl)\n",
        "from sklearn.metrics import confusion_matrix\n",
        "from sklearn.metrics import classification_report\n",
        "matrix = confusion_matrix(y_test,y_predl)\n",
        "print(\"confusion matrix: In\",matrix)\n",
        "cr=classification_report(y_test,y_predl)\n",
        "print( \"Classification Report In \",cr)"
      ]
    }
  ]
}