{
  "nbformat": 4,
  "nbformat_minor": 0,
  "metadata": {
    "colab": {
      "provenance": [],
      "authorship_tag": "ABX9TyOgZp0Alz8ZeOP4MKhTGtV5",
      "include_colab_link": true
    },
    "kernelspec": {
      "name": "python3",
      "display_name": "Python 3"
    },
    "language_info": {
      "name": "python"
    }
  },
  "cells": [
    {
      "cell_type": "markdown",
      "metadata": {
        "id": "view-in-github",
        "colab_type": "text"
      },
      "source": [
        "<a href=\"https://colab.research.google.com/github/ohmkrishnasarang/google-collab/blob/main/Untitled10.ipynb\" target=\"_parent\"><img src=\"https://colab.research.google.com/assets/colab-badge.svg\" alt=\"Open In Colab\"/></a>"
      ]
    },
    {
      "cell_type": "code",
      "execution_count": 7,
      "metadata": {
        "colab": {
          "base_uri": "https://localhost:8080/"
        },
        "id": "UKFZWZ2xDM2K",
        "outputId": "a7a4a12d-5a62-425e-ca73-c9990270c1bf"
      },
      "outputs": [
        {
          "output_type": "stream",
          "name": "stdout",
          "text": [
            "Accuracy Score: 0.7445887445887446\n",
            "Confusiion Matrix:\n",
            " [[124  26]\n",
            " [ 33  48]]\n",
            "Classification Report:\n",
            "               precision    recall  f1-score   support\n",
            "\n",
            "           0       0.79      0.83      0.81       150\n",
            "           1       0.65      0.59      0.62        81\n",
            "\n",
            "    accuracy                           0.74       231\n",
            "   macro avg       0.72      0.71      0.71       231\n",
            "weighted avg       0.74      0.74      0.74       231\n",
            "\n"
          ]
        }
      ],
      "source": [
        "import pandas as pd\n",
        "ds=pd.read_csv('./diabetes.csv')\n",
        "ds.head()\n",
        "x=ds.iloc[:,:-1]\n",
        "x.head()\n",
        "y=ds.iloc[:,-1]\n",
        "y.head()\n",
        "from sklearn.model_selection import train_test_split\n",
        "x_train,x_test,y_train,y_test=train_test_split(x,y,test_size=0.3,random_state=100)\n",
        "from sklearn.svm import SVC\n",
        "classifier=SVC(kernel='linear')\n",
        "classifier.fit(x_train,y_train)\n",
        "y_pred=classifier.predict(x_test)\n",
        "from sklearn.metrics import accuracy_score\n",
        "ac=accuracy_score(y_test,y_pred)\n",
        "print(\"Accuracy Score:\",ac)\n",
        "from sklearn.metrics import confusion_matrix\n",
        "cm=confusion_matrix(y_test,y_pred)\n",
        "print(\"Confusiion Matrix:\\n\",cm)\n",
        "from sklearn.metrics import classification_report\n",
        "cr=classification_report(y_test,y_pred)\n",
        "print(\"Classification Report:\\n\",cr)"
      ]
    }
  ]
}