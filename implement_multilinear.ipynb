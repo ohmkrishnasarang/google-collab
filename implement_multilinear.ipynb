{
  "nbformat": 4,
  "nbformat_minor": 0,
  "metadata": {
    "colab": {
      "provenance": [],
      "authorship_tag": "ABX9TyMSG09bFT8ZXunNB8g2TLtV",
      "include_colab_link": true
    },
    "kernelspec": {
      "name": "python3",
      "display_name": "Python 3"
    },
    "language_info": {
      "name": "python"
    }
  },
  "cells": [
    {
      "cell_type": "markdown",
      "metadata": {
        "id": "view-in-github",
        "colab_type": "text"
      },
      "source": [
        "<a href=\"https://colab.research.google.com/github/ohmkrishnasarang/google-collab/blob/main/implement_multilinear.ipynb\" target=\"_parent\"><img src=\"https://colab.research.google.com/assets/colab-badge.svg\" alt=\"Open In Colab\"/></a>"
      ]
    },
    {
      "cell_type": "code",
      "execution_count": null,
      "metadata": {
        "id": "jzjr7BPvoZXr"
      },
      "outputs": [],
      "source": [
        "import pandas as pd\n",
        "dst=pd.read_csv('./advertising.csv')\n",
        "dst.head()\n",
        "x=dst.iloc[:,:-1]\n",
        "y=dst.iloc[:,-1]\n",
        "x.head()\n",
        "from sklearn.model_selection import train_test_split\n",
        "x_train,x_test,y_train,y_test=train_test_split(x,y,test_size=0.3,random_state=100)\n",
        "from sklearn.linear_model import LinearRegression\n",
        "mr=LinearRegression()\n",
        "mr.fit(x_train,y_train)\n",
        "print('intercept:',mr.intercept_)\n",
        "print(\"coefficients:\")\n",
        "list(zip(x,mr.coef_))\n",
        "y_pred=mr.predict(x_test)\n",
        "print(\"prediction:{}\".format(y_pred))"
      ]
    }
  ]
}